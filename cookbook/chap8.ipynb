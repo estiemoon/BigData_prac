{
 "cells": [
  {
   "cell_type": "code",
   "execution_count": 1,
   "metadata": {},
   "outputs": [],
   "source": [
    "import pandas as pd\n",
    "import numpy as np\n",
    "import os"
   ]
  },
  {
   "cell_type": "code",
   "execution_count": 8,
   "metadata": {},
   "outputs": [
    {
     "name": "stdout",
     "output_type": "stream",
     "text": [
      "ltbrazil.csvhas1104rows\n",
      "ltcameroon.csvhas48rows\n",
      "ltindia.csvhas1056rows\n",
      "ltpoland.csvhas120rows\n",
      "ltjapan.csvhas1800rows\n",
      "ltmexico.csvhas852rows\n",
      "ltoman.csvhas288rows\n",
      "filename\n",
      "ltoman.csv\n",
      "cols\n",
      "Index(['latabs'], dtype='object')\n"
     ]
    }
   ],
   "source": [
    "direc = \"data/ltcountry\"\n",
    "ltall = pd.DataFrame()\n",
    "\n",
    "for filename in os.listdir(direc):\n",
    "    if filename.endswith(\".csv\"):\n",
    "        file_loc = os.path.join(direc, filename)\n",
    "        with open(file_loc) as f:\n",
    "            ltnew = pd.read_csv(file_loc)\n",
    "            print(filename+\"has\"+str(ltnew.shape[0])+\"rows\")\n",
    "            ltall = pd.concat([ltall,ltnew])\n",
    "\n",
    "            coldiff = ltall.columns.symmetric_difference(ltnew.columns)\n",
    "            if not coldiff.empty:\n",
    "                print(\"filename\", filename, \"cols\",coldiff,sep='\\n')"
   ]
  },
  {
   "cell_type": "code",
   "execution_count": null,
   "metadata": {},
   "outputs": [
    {
     "data": {
      "text/html": [
       "<div>\n",
       "<style scoped>\n",
       "    .dataframe tbody tr th:only-of-type {\n",
       "        vertical-align: middle;\n",
       "    }\n",
       "\n",
       "    .dataframe tbody tr th {\n",
       "        vertical-align: top;\n",
       "    }\n",
       "\n",
       "    .dataframe thead tr th {\n",
       "        text-align: left;\n",
       "    }\n",
       "\n",
       "    .dataframe thead tr:last-of-type th {\n",
       "        text-align: right;\n",
       "    }\n",
       "</style>\n",
       "<table border=\"1\" class=\"dataframe\">\n",
       "  <thead>\n",
       "    <tr>\n",
       "      <th></th>\n",
       "      <th colspan=\"4\" halign=\"left\">temperature</th>\n",
       "      <th colspan=\"4\" halign=\"left\">latabs</th>\n",
       "    </tr>\n",
       "    <tr>\n",
       "      <th></th>\n",
       "      <th>min</th>\n",
       "      <th>max</th>\n",
       "      <th>mean</th>\n",
       "      <th>count</th>\n",
       "      <th>min</th>\n",
       "      <th>max</th>\n",
       "      <th>mean</th>\n",
       "      <th>count</th>\n",
       "    </tr>\n",
       "    <tr>\n",
       "      <th>country</th>\n",
       "      <th></th>\n",
       "      <th></th>\n",
       "      <th></th>\n",
       "      <th></th>\n",
       "      <th></th>\n",
       "      <th></th>\n",
       "      <th></th>\n",
       "      <th></th>\n",
       "    </tr>\n",
       "  </thead>\n",
       "  <tbody>\n",
       "    <tr>\n",
       "      <th>Brazil</th>\n",
       "      <td>12.20</td>\n",
       "      <td>33.93</td>\n",
       "      <td>25.470196</td>\n",
       "      <td>969</td>\n",
       "      <td>0.051</td>\n",
       "      <td>33.517</td>\n",
       "      <td>13.859272</td>\n",
       "      <td>1104</td>\n",
       "    </tr>\n",
       "    <tr>\n",
       "      <th>Cameroon</th>\n",
       "      <td>21.87</td>\n",
       "      <td>36.00</td>\n",
       "      <td>27.227941</td>\n",
       "      <td>34</td>\n",
       "      <td>4.020</td>\n",
       "      <td>10.451</td>\n",
       "      <td>7.789250</td>\n",
       "      <td>48</td>\n",
       "    </tr>\n",
       "    <tr>\n",
       "      <th>India</th>\n",
       "      <td>1.95</td>\n",
       "      <td>37.40</td>\n",
       "      <td>26.113477</td>\n",
       "      <td>1044</td>\n",
       "      <td>8.300</td>\n",
       "      <td>34.083</td>\n",
       "      <td>21.104516</td>\n",
       "      <td>1056</td>\n",
       "    </tr>\n",
       "    <tr>\n",
       "      <th>Japan</th>\n",
       "      <td>-7.15</td>\n",
       "      <td>30.14</td>\n",
       "      <td>15.495854</td>\n",
       "      <td>1797</td>\n",
       "      <td>24.300</td>\n",
       "      <td>45.417</td>\n",
       "      <td>35.664822</td>\n",
       "      <td>1800</td>\n",
       "    </tr>\n",
       "    <tr>\n",
       "      <th>Mexico</th>\n",
       "      <td>7.00</td>\n",
       "      <td>34.45</td>\n",
       "      <td>23.230397</td>\n",
       "      <td>806</td>\n",
       "      <td>14.917</td>\n",
       "      <td>32.400</td>\n",
       "      <td>22.114901</td>\n",
       "      <td>852</td>\n",
       "    </tr>\n",
       "    <tr>\n",
       "      <th>Oman</th>\n",
       "      <td>12.10</td>\n",
       "      <td>38.39</td>\n",
       "      <td>27.753463</td>\n",
       "      <td>205</td>\n",
       "      <td>NaN</td>\n",
       "      <td>NaN</td>\n",
       "      <td>NaN</td>\n",
       "      <td>0</td>\n",
       "    </tr>\n",
       "    <tr>\n",
       "      <th>Poland</th>\n",
       "      <td>-3.85</td>\n",
       "      <td>23.25</td>\n",
       "      <td>10.462750</td>\n",
       "      <td>120</td>\n",
       "      <td>50.078</td>\n",
       "      <td>54.750</td>\n",
       "      <td>52.498500</td>\n",
       "      <td>120</td>\n",
       "    </tr>\n",
       "  </tbody>\n",
       "</table>\n",
       "</div>"
      ],
      "text/plain": [
       "         temperature                          latabs                         \n",
       "                 min    max       mean count     min     max       mean count\n",
       "country                                                                      \n",
       "Brazil         12.20  33.93  25.470196   969   0.051  33.517  13.859272  1104\n",
       "Cameroon       21.87  36.00  27.227941    34   4.020  10.451   7.789250    48\n",
       "India           1.95  37.40  26.113477  1044   8.300  34.083  21.104516  1056\n",
       "Japan          -7.15  30.14  15.495854  1797  24.300  45.417  35.664822  1800\n",
       "Mexico          7.00  34.45  23.230397   806  14.917  32.400  22.114901   852\n",
       "Oman           12.10  38.39  27.753463   205     NaN     NaN        NaN     0\n",
       "Poland         -3.85  23.25  10.462750   120  50.078  54.750  52.498500   120"
      ]
     },
     "execution_count": 13,
     "metadata": {},
     "output_type": "execute_result"
    }
   ],
   "source": [
    "ltall.groupby(['country']).agg({\n",
    "    'temperature' : ['min','max','mean','count'],\n",
    "    'latabs' : ['min','max','mean','count']\n",
    "})"
   ]
  },
  {
   "cell_type": "code",
   "execution_count": 14,
   "metadata": {},
   "outputs": [
    {
     "data": {
      "text/html": [
       "<div>\n",
       "<style scoped>\n",
       "    .dataframe tbody tr th:only-of-type {\n",
       "        vertical-align: middle;\n",
       "    }\n",
       "\n",
       "    .dataframe tbody tr th {\n",
       "        vertical-align: top;\n",
       "    }\n",
       "\n",
       "    .dataframe thead tr th {\n",
       "        text-align: left;\n",
       "    }\n",
       "\n",
       "    .dataframe thead tr:last-of-type th {\n",
       "        text-align: right;\n",
       "    }\n",
       "</style>\n",
       "<table border=\"1\" class=\"dataframe\">\n",
       "  <thead>\n",
       "    <tr>\n",
       "      <th></th>\n",
       "      <th colspan=\"4\" halign=\"left\">latabs</th>\n",
       "    </tr>\n",
       "    <tr>\n",
       "      <th></th>\n",
       "      <th>min</th>\n",
       "      <th>max</th>\n",
       "      <th>mean</th>\n",
       "      <th>count</th>\n",
       "    </tr>\n",
       "    <tr>\n",
       "      <th>country</th>\n",
       "      <th></th>\n",
       "      <th></th>\n",
       "      <th></th>\n",
       "      <th></th>\n",
       "    </tr>\n",
       "  </thead>\n",
       "  <tbody>\n",
       "    <tr>\n",
       "      <th>Brazil</th>\n",
       "      <td>0.051</td>\n",
       "      <td>33.517</td>\n",
       "      <td>13.859272</td>\n",
       "      <td>1104</td>\n",
       "    </tr>\n",
       "    <tr>\n",
       "      <th>Cameroon</th>\n",
       "      <td>4.020</td>\n",
       "      <td>10.451</td>\n",
       "      <td>7.789250</td>\n",
       "      <td>48</td>\n",
       "    </tr>\n",
       "    <tr>\n",
       "      <th>India</th>\n",
       "      <td>8.300</td>\n",
       "      <td>34.083</td>\n",
       "      <td>21.104516</td>\n",
       "      <td>1056</td>\n",
       "    </tr>\n",
       "    <tr>\n",
       "      <th>Japan</th>\n",
       "      <td>24.300</td>\n",
       "      <td>45.417</td>\n",
       "      <td>35.664822</td>\n",
       "      <td>1800</td>\n",
       "    </tr>\n",
       "    <tr>\n",
       "      <th>Mexico</th>\n",
       "      <td>14.917</td>\n",
       "      <td>32.400</td>\n",
       "      <td>22.114901</td>\n",
       "      <td>852</td>\n",
       "    </tr>\n",
       "    <tr>\n",
       "      <th>Oman</th>\n",
       "      <td>16.933</td>\n",
       "      <td>26.167</td>\n",
       "      <td>21.997875</td>\n",
       "      <td>288</td>\n",
       "    </tr>\n",
       "    <tr>\n",
       "      <th>Poland</th>\n",
       "      <td>50.078</td>\n",
       "      <td>54.750</td>\n",
       "      <td>52.498500</td>\n",
       "      <td>120</td>\n",
       "    </tr>\n",
       "  </tbody>\n",
       "</table>\n",
       "</div>"
      ],
      "text/plain": [
       "          latabs                         \n",
       "             min     max       mean count\n",
       "country                                  \n",
       "Brazil     0.051  33.517  13.859272  1104\n",
       "Cameroon   4.020  10.451   7.789250    48\n",
       "India      8.300  34.083  21.104516  1056\n",
       "Japan     24.300  45.417  35.664822  1800\n",
       "Mexico    14.917  32.400  22.114901   852\n",
       "Oman      16.933  26.167  21.997875   288\n",
       "Poland    50.078  54.750  52.498500   120"
      ]
     },
     "execution_count": 14,
     "metadata": {},
     "output_type": "execute_result"
    }
   ],
   "source": [
    "ltall['latabs'] = np.where(ltall.country == 'Oman', ltall.latitude, ltall.latabs)\n",
    "ltall.groupby(['country']).agg({\n",
    "    'latabs' : ['min','max','mean','count']\n",
    "})"
   ]
  },
  {
   "cell_type": "code",
   "execution_count": 34,
   "metadata": {},
   "outputs": [],
   "source": [
    "nls97 = pd.read_csv(\"data/nls97f.csv\")\n",
    "nls97.set_index('personid', inplace=True)\n",
    "nls97add = pd.read_csv(\"data/nls97add.csv\")"
   ]
  },
  {
   "cell_type": "code",
   "execution_count": 35,
   "metadata": {},
   "outputs": [
    {
     "name": "stdout",
     "output_type": "stream",
     "text": [
      "True\n"
     ]
    },
    {
     "data": {
      "text/plain": [
       "True"
      ]
     },
     "execution_count": 35,
     "metadata": {},
     "output_type": "execute_result"
    }
   ],
   "source": [
    "print(nls97.originalid.nunique()==nls97.shape[0])\n",
    "nls97add.originalid.nunique() ==nls97add.shape[0]"
   ]
  },
  {
   "cell_type": "code",
   "execution_count": 36,
   "metadata": {},
   "outputs": [
    {
     "data": {
      "text/plain": [
       "personid\n",
       "135335    10001\n",
       "999406    10002\n",
       "Name: originalid, dtype: int64"
      ]
     },
     "execution_count": 36,
     "metadata": {},
     "output_type": "execute_result"
    }
   ],
   "source": [
    "#contaminate\n",
    "nls97.sort_values('originalid',inplace=True)\n",
    "nls97add.sort_values('originalid', inplace=True)\n",
    "nls97.iloc[0:2, -1] = nls97[0:2].originalid+10000\n",
    "nls97.originalid.head(2)"
   ]
  },
  {
   "cell_type": "code",
   "execution_count": 37,
   "metadata": {},
   "outputs": [
    {
     "data": {
      "text/plain": [
       "0    20001\n",
       "1    20002\n",
       "Name: originalid, dtype: int64"
      ]
     },
     "execution_count": 37,
     "metadata": {},
     "output_type": "execute_result"
    }
   ],
   "source": [
    "nls97add.iloc[0:2, 0] = nls97add[0:2].originalid+20000\n",
    "nls97add.originalid.head(2)"
   ]
  },
  {
   "cell_type": "code",
   "execution_count": 45,
   "metadata": {},
   "outputs": [
    {
     "data": {
      "text/html": [
       "<div>\n",
       "<style scoped>\n",
       "    .dataframe tbody tr th:only-of-type {\n",
       "        vertical-align: middle;\n",
       "    }\n",
       "\n",
       "    .dataframe tbody tr th {\n",
       "        vertical-align: top;\n",
       "    }\n",
       "\n",
       "    .dataframe thead th {\n",
       "        text-align: right;\n",
       "    }\n",
       "</style>\n",
       "<table border=\"1\" class=\"dataframe\">\n",
       "  <thead>\n",
       "    <tr style=\"text-align: right;\">\n",
       "      <th></th>\n",
       "      <th>originalid</th>\n",
       "      <th>gender</th>\n",
       "      <th>motherage</th>\n",
       "      <th>parentincome</th>\n",
       "    </tr>\n",
       "  </thead>\n",
       "  <tbody>\n",
       "    <tr>\n",
       "      <th>8982</th>\n",
       "      <td>10001</td>\n",
       "      <td>Female</td>\n",
       "      <td>NaN</td>\n",
       "      <td>NaN</td>\n",
       "    </tr>\n",
       "    <tr>\n",
       "      <th>8983</th>\n",
       "      <td>10002</td>\n",
       "      <td>Male</td>\n",
       "      <td>NaN</td>\n",
       "      <td>NaN</td>\n",
       "    </tr>\n",
       "    <tr>\n",
       "      <th>8984</th>\n",
       "      <td>20001</td>\n",
       "      <td>NaN</td>\n",
       "      <td>26.0</td>\n",
       "      <td>-3.0</td>\n",
       "    </tr>\n",
       "    <tr>\n",
       "      <th>8985</th>\n",
       "      <td>20002</td>\n",
       "      <td>NaN</td>\n",
       "      <td>19.0</td>\n",
       "      <td>-4.0</td>\n",
       "    </tr>\n",
       "  </tbody>\n",
       "</table>\n",
       "</div>"
      ],
      "text/plain": [
       "      originalid  gender  motherage  parentincome\n",
       "8982       10001  Female        NaN           NaN\n",
       "8983       10002    Male        NaN           NaN\n",
       "8984       20001     NaN       26.0          -3.0\n",
       "8985       20002     NaN       19.0          -4.0"
      ]
     },
     "execution_count": 45,
     "metadata": {},
     "output_type": "execute_result"
    }
   ],
   "source": [
    "#left join (merge == join)\n",
    "nlsnew = pd.merge(nls97, nls97add, on=['originalid'], how='left')\n",
    "nlsnew.loc[nlsnew.originalid >9999, ['originalid', 'gender','motherage','parentincome']]\n",
    "\n",
    "#right join\n",
    "nlsnew = pd.merge(nls97, nls97add, on=['originalid'], how='right')\n",
    "nlsnew.loc[nlsnew.originalid >9999, ['originalid', 'gender','motherage','parentincome']]\n",
    "\n",
    "#inner join\n",
    "nlsnew = pd.merge(nls97, nls97add, on=['originalid'], how='inner')\n",
    "nlsnew.loc[nlsnew.originalid >9999, ['originalid', 'gender','motherage','parentincome']]\n",
    "\n",
    "#outer join\n",
    "nlsnew = pd.merge(nls97, nls97add, on=['originalid'], how='outer')\n",
    "nlsnew.loc[nlsnew.originalid >9999, ['originalid', 'gender','motherage','parentincome']]\n"
   ]
  },
  {
   "cell_type": "code",
   "execution_count": 72,
   "metadata": {},
   "outputs": [],
   "source": [
    "def checkmerge(dfleft, dfright, idvar):\n",
    "    dfleft['inleft'] = \"Y\"\n",
    "    dfright['inright'] = \"Y\"\n",
    "    dfboth = pd.merge(dfleft[[idvar,'inleft']], dfright[[idvar,'inright']], on=[idvar], how='outer')\n",
    "    dfboth.fillna('N', inplace=True)\n",
    "    print(pd.crosstab(dfboth.inleft, dfboth.inright))\n",
    "    print(dfboth.loc[(dfboth.inleft=='N') | (dfboth.inright =='N')])"
   ]
  },
  {
   "cell_type": "code",
   "execution_count": 47,
   "metadata": {},
   "outputs": [
    {
     "name": "stdout",
     "output_type": "stream",
     "text": [
      "inright  N     Y\n",
      "inleft          \n",
      "N        0     2\n",
      "Y        2  8982\n"
     ]
    }
   ],
   "source": [
    "checkmerge(nls97,nls97add, \"originalid\")"
   ]
  },
  {
   "cell_type": "code",
   "execution_count": 48,
   "metadata": {},
   "outputs": [],
   "source": [
    "weeksworked = pd.read_csv('data/nls97weeksworked.csv')\n",
    "colenr = pd.read_csv('data/nls97colenr.csv')"
   ]
  },
  {
   "cell_type": "code",
   "execution_count": 54,
   "metadata": {},
   "outputs": [
    {
     "data": {
      "text/plain": [
       "(44920,)"
      ]
     },
     "execution_count": 54,
     "metadata": {},
     "output_type": "execute_result"
    }
   ],
   "source": [
    "weeksworked.groupby(['originalid','year'])['originalid'].count().shape"
   ]
  },
  {
   "cell_type": "code",
   "execution_count": 58,
   "metadata": {},
   "outputs": [],
   "source": [
    "merge_weekschool = pd.merge(weeksworked, colenr, on=['originalid','year'], how='inner')"
   ]
  },
  {
   "cell_type": "code",
   "execution_count": 59,
   "metadata": {},
   "outputs": [
    {
     "data": {
      "text/html": [
       "<div>\n",
       "<style scoped>\n",
       "    .dataframe tbody tr th:only-of-type {\n",
       "        vertical-align: middle;\n",
       "    }\n",
       "\n",
       "    .dataframe tbody tr th {\n",
       "        vertical-align: top;\n",
       "    }\n",
       "\n",
       "    .dataframe thead th {\n",
       "        text-align: right;\n",
       "    }\n",
       "</style>\n",
       "<table border=\"1\" class=\"dataframe\">\n",
       "  <thead>\n",
       "    <tr style=\"text-align: right;\">\n",
       "      <th></th>\n",
       "      <th>originalid</th>\n",
       "      <th>year</th>\n",
       "      <th>weeksworked</th>\n",
       "      <th>colenr</th>\n",
       "    </tr>\n",
       "  </thead>\n",
       "  <tbody>\n",
       "    <tr>\n",
       "      <th>0</th>\n",
       "      <td>8245</td>\n",
       "      <td>2000</td>\n",
       "      <td>46.0</td>\n",
       "      <td>1. Not enrolled</td>\n",
       "    </tr>\n",
       "    <tr>\n",
       "      <th>1</th>\n",
       "      <td>3962</td>\n",
       "      <td>2000</td>\n",
       "      <td>5.0</td>\n",
       "      <td>1. Not enrolled</td>\n",
       "    </tr>\n",
       "    <tr>\n",
       "      <th>2</th>\n",
       "      <td>3571</td>\n",
       "      <td>2000</td>\n",
       "      <td>5.0</td>\n",
       "      <td>1. Not enrolled</td>\n",
       "    </tr>\n",
       "    <tr>\n",
       "      <th>3</th>\n",
       "      <td>2979</td>\n",
       "      <td>2000</td>\n",
       "      <td>29.0</td>\n",
       "      <td>3. 4-year college</td>\n",
       "    </tr>\n",
       "    <tr>\n",
       "      <th>4</th>\n",
       "      <td>8511</td>\n",
       "      <td>2000</td>\n",
       "      <td>53.0</td>\n",
       "      <td>1. Not enrolled</td>\n",
       "    </tr>\n",
       "    <tr>\n",
       "      <th>...</th>\n",
       "      <td>...</td>\n",
       "      <td>...</td>\n",
       "      <td>...</td>\n",
       "      <td>...</td>\n",
       "    </tr>\n",
       "    <tr>\n",
       "      <th>44915</th>\n",
       "      <td>7217</td>\n",
       "      <td>2004</td>\n",
       "      <td>15.0</td>\n",
       "      <td>3. 4-year college</td>\n",
       "    </tr>\n",
       "    <tr>\n",
       "      <th>44916</th>\n",
       "      <td>2</td>\n",
       "      <td>2004</td>\n",
       "      <td>52.0</td>\n",
       "      <td>3. 4-year college</td>\n",
       "    </tr>\n",
       "    <tr>\n",
       "      <th>44917</th>\n",
       "      <td>5113</td>\n",
       "      <td>2004</td>\n",
       "      <td>8.0</td>\n",
       "      <td>1. Not enrolled</td>\n",
       "    </tr>\n",
       "    <tr>\n",
       "      <th>44918</th>\n",
       "      <td>7815</td>\n",
       "      <td>2004</td>\n",
       "      <td>0.0</td>\n",
       "      <td>1. Not enrolled</td>\n",
       "    </tr>\n",
       "    <tr>\n",
       "      <th>44919</th>\n",
       "      <td>166</td>\n",
       "      <td>2004</td>\n",
       "      <td>38.0</td>\n",
       "      <td>1. Not enrolled</td>\n",
       "    </tr>\n",
       "  </tbody>\n",
       "</table>\n",
       "<p>44920 rows × 4 columns</p>\n",
       "</div>"
      ],
      "text/plain": [
       "       originalid  year  weeksworked             colenr\n",
       "0            8245  2000         46.0    1. Not enrolled\n",
       "1            3962  2000          5.0    1. Not enrolled\n",
       "2            3571  2000          5.0    1. Not enrolled\n",
       "3            2979  2000         29.0  3. 4-year college\n",
       "4            8511  2000         53.0    1. Not enrolled\n",
       "...           ...   ...          ...                ...\n",
       "44915        7217  2004         15.0  3. 4-year college\n",
       "44916           2  2004         52.0  3. 4-year college\n",
       "44917        5113  2004          8.0    1. Not enrolled\n",
       "44918        7815  2004          0.0    1. Not enrolled\n",
       "44919         166  2004         38.0    1. Not enrolled\n",
       "\n",
       "[44920 rows x 4 columns]"
      ]
     },
     "execution_count": 59,
     "metadata": {},
     "output_type": "execute_result"
    }
   ],
   "source": [
    "merge_weekschool"
   ]
  },
  {
   "cell_type": "code",
   "execution_count": 85,
   "metadata": {},
   "outputs": [],
   "source": [
    "countries = pd.read_csv('data/ltcountries.csv')\n",
    "locations = pd.read_csv('data/ltlocations.csv')"
   ]
  },
  {
   "cell_type": "code",
   "execution_count": 73,
   "metadata": {},
   "outputs": [
    {
     "name": "stdout",
     "output_type": "stream",
     "text": [
      "inright  N      Y\n",
      "inleft           \n",
      "N        0      1\n",
      "Y        2  27472\n",
      "      countryid inleft inright\n",
      "7363         FO      N       Y\n",
      "9716         LQ      Y       N\n",
      "13104        ST      Y       N\n"
     ]
    }
   ],
   "source": [
    "checkmerge(countries,locations,'countryid')"
   ]
  },
  {
   "cell_type": "code",
   "execution_count": 76,
   "metadata": {},
   "outputs": [
    {
     "data": {
      "text/html": [
       "<div>\n",
       "<style scoped>\n",
       "    .dataframe tbody tr th:only-of-type {\n",
       "        vertical-align: middle;\n",
       "    }\n",
       "\n",
       "    .dataframe tbody tr th {\n",
       "        vertical-align: top;\n",
       "    }\n",
       "\n",
       "    .dataframe thead th {\n",
       "        text-align: right;\n",
       "    }\n",
       "</style>\n",
       "<table border=\"1\" class=\"dataframe\">\n",
       "  <thead>\n",
       "    <tr style=\"text-align: right;\">\n",
       "      <th></th>\n",
       "      <th>countryid</th>\n",
       "      <th>country</th>\n",
       "      <th>inleft</th>\n",
       "    </tr>\n",
       "  </thead>\n",
       "  <tbody>\n",
       "    <tr>\n",
       "      <th>124</th>\n",
       "      <td>LQ</td>\n",
       "      <td>Palmyra Atoll [United States]</td>\n",
       "      <td>Y</td>\n",
       "    </tr>\n",
       "    <tr>\n",
       "      <th>195</th>\n",
       "      <td>ST</td>\n",
       "      <td>Saint Lucia</td>\n",
       "      <td>Y</td>\n",
       "    </tr>\n",
       "  </tbody>\n",
       "</table>\n",
       "</div>"
      ],
      "text/plain": [
       "    countryid                        country inleft\n",
       "124        LQ  Palmyra Atoll [United States]      Y\n",
       "195        ST                    Saint Lucia      Y"
      ]
     },
     "execution_count": 76,
     "metadata": {},
     "output_type": "execute_result"
    }
   ],
   "source": [
    "countries.loc[countries.countryid.isin(['LQ','ST'])]"
   ]
  },
  {
   "cell_type": "code",
   "execution_count": 77,
   "metadata": {},
   "outputs": [
    {
     "data": {
      "text/html": [
       "<div>\n",
       "<style scoped>\n",
       "    .dataframe tbody tr th:only-of-type {\n",
       "        vertical-align: middle;\n",
       "    }\n",
       "\n",
       "    .dataframe tbody tr th {\n",
       "        vertical-align: top;\n",
       "    }\n",
       "\n",
       "    .dataframe thead th {\n",
       "        text-align: right;\n",
       "    }\n",
       "</style>\n",
       "<table border=\"1\" class=\"dataframe\">\n",
       "  <thead>\n",
       "    <tr style=\"text-align: right;\">\n",
       "      <th></th>\n",
       "      <th>locationid</th>\n",
       "      <th>latitude</th>\n",
       "      <th>longitude</th>\n",
       "      <th>stnelev</th>\n",
       "      <th>station</th>\n",
       "      <th>countryid</th>\n",
       "      <th>inright</th>\n",
       "    </tr>\n",
       "  </thead>\n",
       "  <tbody>\n",
       "    <tr>\n",
       "      <th>7363</th>\n",
       "      <td>FOM00006009</td>\n",
       "      <td>61.4</td>\n",
       "      <td>-6.667</td>\n",
       "      <td>102.0</td>\n",
       "      <td>AKRABERG</td>\n",
       "      <td>FO</td>\n",
       "      <td>Y</td>\n",
       "    </tr>\n",
       "  </tbody>\n",
       "</table>\n",
       "</div>"
      ],
      "text/plain": [
       "       locationid  latitude  longitude  stnelev   station countryid inright\n",
       "7363  FOM00006009      61.4     -6.667    102.0  AKRABERG        FO       Y"
      ]
     },
     "execution_count": 77,
     "metadata": {},
     "output_type": "execute_result"
    }
   ],
   "source": [
    "locations.loc[locations.countryid == 'FO']"
   ]
  },
  {
   "cell_type": "code",
   "execution_count": 79,
   "metadata": {},
   "outputs": [],
   "source": [
    "countries.set_index(['countryid'],inplace=True)\n",
    "locations.set_index(['countryid'],inplace=True)"
   ]
  },
  {
   "cell_type": "code",
   "execution_count": 80,
   "metadata": {},
   "outputs": [
    {
     "data": {
      "text/plain": [
       "True"
      ]
     },
     "execution_count": 80,
     "metadata": {},
     "output_type": "execute_result"
    }
   ],
   "source": [
    "countries.index.nunique() == countries.shape[0]"
   ]
  },
  {
   "cell_type": "code",
   "execution_count": null,
   "metadata": {},
   "outputs": [],
   "source": [
    "stations = countries.join(locations)\n",
    "stations[['locationid','latitude','stnelev','country']]"
   ]
  },
  {
   "cell_type": "code",
   "execution_count": 87,
   "metadata": {},
   "outputs": [],
   "source": [
    "stations = pd.merge(countries, locations, on=['countryid'], how='left')"
   ]
  },
  {
   "cell_type": "code",
   "execution_count": 88,
   "metadata": {},
   "outputs": [
    {
     "data": {
      "text/plain": [
       "(27474, 7)"
      ]
     },
     "execution_count": 88,
     "metadata": {},
     "output_type": "execute_result"
    }
   ],
   "source": [
    "stations.shape"
   ]
  },
  {
   "cell_type": "code",
   "execution_count": 94,
   "metadata": {},
   "outputs": [
    {
     "data": {
      "text/plain": [
       "countryid     0\n",
       "country       0\n",
       "locationid    2\n",
       "latitude      2\n",
       "longitude     2\n",
       "stnelev       2\n",
       "station       2\n",
       "dtype: int64"
      ]
     },
     "execution_count": 94,
     "metadata": {},
     "output_type": "execute_result"
    }
   ],
   "source": [
    "stations.loc[stations.countryid.isin(['LQ','ST'])].isnull().sum()"
   ]
  }
 ],
 "metadata": {
  "kernelspec": {
   "display_name": "Python 3",
   "language": "python",
   "name": "python3"
  },
  "language_info": {
   "codemirror_mode": {
    "name": "ipython",
    "version": 3
   },
   "file_extension": ".py",
   "mimetype": "text/x-python",
   "name": "python",
   "nbconvert_exporter": "python",
   "pygments_lexer": "ipython3",
   "version": "3.12.6"
  }
 },
 "nbformat": 4,
 "nbformat_minor": 2
}
